{
 "cells": [
  {
   "cell_type": "code",
   "execution_count": 1,
   "id": "a982e474",
   "metadata": {},
   "outputs": [],
   "source": [
    "import pandas as pd"
   ]
  },
  {
   "cell_type": "code",
   "execution_count": 4,
   "id": "2e9a0976",
   "metadata": {},
   "outputs": [
    {
     "data": {
      "text/html": [
       "<div>\n",
       "<style scoped>\n",
       "    .dataframe tbody tr th:only-of-type {\n",
       "        vertical-align: middle;\n",
       "    }\n",
       "\n",
       "    .dataframe tbody tr th {\n",
       "        vertical-align: top;\n",
       "    }\n",
       "\n",
       "    .dataframe thead th {\n",
       "        text-align: right;\n",
       "    }\n",
       "</style>\n",
       "<table border=\"1\" class=\"dataframe\">\n",
       "  <thead>\n",
       "    <tr style=\"text-align: right;\">\n",
       "      <th></th>\n",
       "      <th>Title</th>\n",
       "      <th>Ingredients</th>\n",
       "      <th>Steps</th>\n",
       "      <th>Loves</th>\n",
       "      <th>URL</th>\n",
       "      <th>Category</th>\n",
       "      <th>Title Cleaned</th>\n",
       "      <th>Total Ingredients</th>\n",
       "      <th>Ingredients Cleaned</th>\n",
       "      <th>Total Steps</th>\n",
       "    </tr>\n",
       "  </thead>\n",
       "  <tbody>\n",
       "    <tr>\n",
       "      <th>0</th>\n",
       "      <td>Ayam Woku Manado</td>\n",
       "      <td>1 Ekor Ayam Kampung (potong 12)--2 Buah Jeruk ...</td>\n",
       "      <td>1) Cuci bersih ayam dan tiriskan. Lalu peras j...</td>\n",
       "      <td>1</td>\n",
       "      <td>https://cookpad.com/id/resep/4473027-ayam-woku...</td>\n",
       "      <td>ayam</td>\n",
       "      <td>ayam woku manado</td>\n",
       "      <td>14</td>\n",
       "      <td>ayam kampung potong , jeruk nipis , garam , ku...</td>\n",
       "      <td>7</td>\n",
       "    </tr>\n",
       "    <tr>\n",
       "      <th>1</th>\n",
       "      <td>Ayam goreng tulang lunak</td>\n",
       "      <td>1 kg ayam (dipotong sesuai selera jangan kecil...</td>\n",
       "      <td>1) Haluskan bumbu2nya (BaPut, ketumbar, kemiri...</td>\n",
       "      <td>1</td>\n",
       "      <td>https://cookpad.com/id/resep/4471956-ayam-gore...</td>\n",
       "      <td>ayam</td>\n",
       "      <td>ayam goreng tulang lunak</td>\n",
       "      <td>11</td>\n",
       "      <td>ayam dipotong , serai , daun jeruk , bawang pu...</td>\n",
       "      <td>5</td>\n",
       "    </tr>\n",
       "    <tr>\n",
       "      <th>2</th>\n",
       "      <td>Ayam cabai kawin</td>\n",
       "      <td>1/4 kg ayam--3 buah cabai hijau besar--7 buah ...</td>\n",
       "      <td>1) Panaskan minyak di dalam wajan. Setelah min...</td>\n",
       "      <td>2</td>\n",
       "      <td>https://cookpad.com/id/resep/4473057-ayam-caba...</td>\n",
       "      <td>ayam</td>\n",
       "      <td>ayam cabai kawin</td>\n",
       "      <td>10</td>\n",
       "      <td>ayam , cabai hijau , cabai merah rawit , bawan...</td>\n",
       "      <td>3</td>\n",
       "    </tr>\n",
       "    <tr>\n",
       "      <th>3</th>\n",
       "      <td>Ayam Geprek</td>\n",
       "      <td>250 gr daging ayam (saya pakai fillet)--Secuku...</td>\n",
       "      <td>1) Goreng ayam seperti ayam krispi\\n2) Ulek se...</td>\n",
       "      <td>10</td>\n",
       "      <td>https://cookpad.com/id/resep/4473023-ayam-geprek</td>\n",
       "      <td>ayam</td>\n",
       "      <td>ayam geprek</td>\n",
       "      <td>7</td>\n",
       "      <td>daging ayam fillet , gula garam , tepung ayam ...</td>\n",
       "      <td>3</td>\n",
       "    </tr>\n",
       "    <tr>\n",
       "      <th>4</th>\n",
       "      <td>Minyak Ayam</td>\n",
       "      <td>400 gr kulit ayam &amp; lemaknya--8 siung bawang p...</td>\n",
       "      <td>1) Cuci bersih kulit ayam. Sisihkan\\n2) Ambil ...</td>\n",
       "      <td>4</td>\n",
       "      <td>https://cookpad.com/id/resep/4427438-minyak-ayam</td>\n",
       "      <td>ayam</td>\n",
       "      <td>minyak ayam</td>\n",
       "      <td>5</td>\n",
       "      <td>kulit ayam &amp; lemaknya , bawang putih , cincang...</td>\n",
       "      <td>6</td>\n",
       "    </tr>\n",
       "  </tbody>\n",
       "</table>\n",
       "</div>"
      ],
      "text/plain": [
       "                      Title  \\\n",
       "0          Ayam Woku Manado   \n",
       "1  Ayam goreng tulang lunak   \n",
       "2          Ayam cabai kawin   \n",
       "3               Ayam Geprek   \n",
       "4               Minyak Ayam   \n",
       "\n",
       "                                         Ingredients  \\\n",
       "0  1 Ekor Ayam Kampung (potong 12)--2 Buah Jeruk ...   \n",
       "1  1 kg ayam (dipotong sesuai selera jangan kecil...   \n",
       "2  1/4 kg ayam--3 buah cabai hijau besar--7 buah ...   \n",
       "3  250 gr daging ayam (saya pakai fillet)--Secuku...   \n",
       "4  400 gr kulit ayam & lemaknya--8 siung bawang p...   \n",
       "\n",
       "                                               Steps  Loves  \\\n",
       "0  1) Cuci bersih ayam dan tiriskan. Lalu peras j...      1   \n",
       "1  1) Haluskan bumbu2nya (BaPut, ketumbar, kemiri...      1   \n",
       "2  1) Panaskan minyak di dalam wajan. Setelah min...      2   \n",
       "3  1) Goreng ayam seperti ayam krispi\\n2) Ulek se...     10   \n",
       "4  1) Cuci bersih kulit ayam. Sisihkan\\n2) Ambil ...      4   \n",
       "\n",
       "                                                 URL Category  \\\n",
       "0  https://cookpad.com/id/resep/4473027-ayam-woku...     ayam   \n",
       "1  https://cookpad.com/id/resep/4471956-ayam-gore...     ayam   \n",
       "2  https://cookpad.com/id/resep/4473057-ayam-caba...     ayam   \n",
       "3   https://cookpad.com/id/resep/4473023-ayam-geprek     ayam   \n",
       "4   https://cookpad.com/id/resep/4427438-minyak-ayam     ayam   \n",
       "\n",
       "              Title Cleaned  Total Ingredients  \\\n",
       "0          ayam woku manado                 14   \n",
       "1  ayam goreng tulang lunak                 11   \n",
       "2          ayam cabai kawin                 10   \n",
       "3               ayam geprek                  7   \n",
       "4               minyak ayam                  5   \n",
       "\n",
       "                                 Ingredients Cleaned  Total Steps  \n",
       "0  ayam kampung potong , jeruk nipis , garam , ku...            7  \n",
       "1  ayam dipotong , serai , daun jeruk , bawang pu...            5  \n",
       "2  ayam , cabai hijau , cabai merah rawit , bawan...            3  \n",
       "3  daging ayam fillet , gula garam , tepung ayam ...            3  \n",
       "4  kulit ayam & lemaknya , bawang putih , cincang...            6  "
      ]
     },
     "execution_count": 4,
     "metadata": {},
     "output_type": "execute_result"
    }
   ],
   "source": [
    "df = pd.read_csv(\"Indonesian_Food_Recipes.csv\")\n",
    "df.head()"
   ]
  },
  {
   "cell_type": "code",
   "execution_count": 5,
   "id": "cc1a10b3",
   "metadata": {},
   "outputs": [
    {
     "name": "stdout",
     "output_type": "stream",
     "text": [
      "<class 'pandas.core.frame.DataFrame'>\n",
      "RangeIndex: 14945 entries, 0 to 14944\n",
      "Data columns (total 10 columns):\n",
      " #   Column               Non-Null Count  Dtype \n",
      "---  ------               --------------  ----- \n",
      " 0   Title                14945 non-null  object\n",
      " 1   Ingredients          14945 non-null  object\n",
      " 2   Steps                14945 non-null  object\n",
      " 3   Loves                14945 non-null  int64 \n",
      " 4   URL                  14945 non-null  object\n",
      " 5   Category             14945 non-null  object\n",
      " 6   Title Cleaned        14925 non-null  object\n",
      " 7   Total Ingredients    14945 non-null  int64 \n",
      " 8   Ingredients Cleaned  14945 non-null  object\n",
      " 9   Total Steps          14945 non-null  int64 \n",
      "dtypes: int64(3), object(7)\n",
      "memory usage: 1.1+ MB\n"
     ]
    }
   ],
   "source": [
    "df.info()\n"
   ]
  },
  {
   "cell_type": "code",
   "execution_count": 6,
   "id": "1d229e40",
   "metadata": {},
   "outputs": [
    {
     "data": {
      "text/html": [
       "<div>\n",
       "<style scoped>\n",
       "    .dataframe tbody tr th:only-of-type {\n",
       "        vertical-align: middle;\n",
       "    }\n",
       "\n",
       "    .dataframe tbody tr th {\n",
       "        vertical-align: top;\n",
       "    }\n",
       "\n",
       "    .dataframe thead th {\n",
       "        text-align: right;\n",
       "    }\n",
       "</style>\n",
       "<table border=\"1\" class=\"dataframe\">\n",
       "  <thead>\n",
       "    <tr style=\"text-align: right;\">\n",
       "      <th></th>\n",
       "      <th>Title Cleaned</th>\n",
       "      <th>Ingredients Cleaned</th>\n",
       "    </tr>\n",
       "  </thead>\n",
       "  <tbody>\n",
       "    <tr>\n",
       "      <th>0</th>\n",
       "      <td>ayam woku manado</td>\n",
       "      <td>ayam kampung potong , jeruk nipis , garam , ku...</td>\n",
       "    </tr>\n",
       "    <tr>\n",
       "      <th>1</th>\n",
       "      <td>ayam goreng tulang lunak</td>\n",
       "      <td>ayam dipotong , serai , daun jeruk , bawang pu...</td>\n",
       "    </tr>\n",
       "    <tr>\n",
       "      <th>2</th>\n",
       "      <td>ayam cabai kawin</td>\n",
       "      <td>ayam , cabai hijau , cabai merah rawit , bawan...</td>\n",
       "    </tr>\n",
       "    <tr>\n",
       "      <th>3</th>\n",
       "      <td>ayam geprek</td>\n",
       "      <td>daging ayam fillet , gula garam , tepung ayam ...</td>\n",
       "    </tr>\n",
       "    <tr>\n",
       "      <th>4</th>\n",
       "      <td>minyak ayam</td>\n",
       "      <td>kulit ayam &amp; lemaknya , bawang putih , cincang...</td>\n",
       "    </tr>\n",
       "  </tbody>\n",
       "</table>\n",
       "</div>"
      ],
      "text/plain": [
       "              Title Cleaned                                Ingredients Cleaned\n",
       "0          ayam woku manado  ayam kampung potong , jeruk nipis , garam , ku...\n",
       "1  ayam goreng tulang lunak  ayam dipotong , serai , daun jeruk , bawang pu...\n",
       "2          ayam cabai kawin  ayam , cabai hijau , cabai merah rawit , bawan...\n",
       "3               ayam geprek  daging ayam fillet , gula garam , tepung ayam ...\n",
       "4               minyak ayam  kulit ayam & lemaknya , bawang putih , cincang..."
      ]
     },
     "execution_count": 6,
     "metadata": {},
     "output_type": "execute_result"
    }
   ],
   "source": [
    "df = df.drop(columns=[\"Title\", \"Ingredients\", \"Steps\", \"Loves\", \"URL\", \"Category\", \"Total Ingredients\", \"Total Steps\"])\n",
    "df.head()"
   ]
  },
  {
   "cell_type": "code",
   "execution_count": 7,
   "id": "c1ac4077",
   "metadata": {},
   "outputs": [
    {
     "data": {
      "text/plain": [
       "Title Cleaned          20\n",
       "Ingredients Cleaned     0\n",
       "dtype: int64"
      ]
     },
     "execution_count": 7,
     "metadata": {},
     "output_type": "execute_result"
    }
   ],
   "source": [
    "df.isnull().sum()"
   ]
  },
  {
   "cell_type": "code",
   "execution_count": 12,
   "id": "81ef926a",
   "metadata": {},
   "outputs": [
    {
     "data": {
      "text/html": [
       "<div>\n",
       "<style scoped>\n",
       "    .dataframe tbody tr th:only-of-type {\n",
       "        vertical-align: middle;\n",
       "    }\n",
       "\n",
       "    .dataframe tbody tr th {\n",
       "        vertical-align: top;\n",
       "    }\n",
       "\n",
       "    .dataframe thead th {\n",
       "        text-align: right;\n",
       "    }\n",
       "</style>\n",
       "<table border=\"1\" class=\"dataframe\">\n",
       "  <thead>\n",
       "    <tr style=\"text-align: right;\">\n",
       "      <th></th>\n",
       "      <th>Title Cleaned</th>\n",
       "      <th>Ingredients Cleaned</th>\n",
       "    </tr>\n",
       "  </thead>\n",
       "  <tbody>\n",
       "    <tr>\n",
       "      <th>4005</th>\n",
       "      <td>NaN</td>\n",
       "      <td>daging kambing , pala , jahe , salam , daun je...</td>\n",
       "    </tr>\n",
       "    <tr>\n",
       "      <th>4040</th>\n",
       "      <td>NaN</td>\n",
       "      <td>bahana , daging kambing , potong potong , b , ...</td>\n",
       "    </tr>\n",
       "    <tr>\n",
       "      <th>4042</th>\n",
       "      <td>NaN</td>\n",
       "      <td>daging kambing rebus , bunga kol , wortel , bu...</td>\n",
       "    </tr>\n",
       "    <tr>\n",
       "      <th>4077</th>\n",
       "      <td>NaN</td>\n",
       "      <td>iga tulang kambing , kacang ijo , bawang putih...</td>\n",
       "    </tr>\n",
       "    <tr>\n",
       "      <th>4112</th>\n",
       "      <td>NaN</td>\n",
       "      <td>iga , daging , jeroan kambing pembagian , bawa...</td>\n",
       "    </tr>\n",
       "    <tr>\n",
       "      <th>4149</th>\n",
       "      <td>NaN</td>\n",
       "      <td>daging kambing , bumbu , bawang putih , garam ...</td>\n",
       "    </tr>\n",
       "    <tr>\n",
       "      <th>4194</th>\n",
       "      <td>NaN</td>\n",
       "      <td>daging kambing , bubuk pengempuk daging , keca...</td>\n",
       "    </tr>\n",
       "    <tr>\n",
       "      <th>4212</th>\n",
       "      <td>NaN</td>\n",
       "      <td>daging kambing , cabe rawit merah , bawang mer...</td>\n",
       "    </tr>\n",
       "    <tr>\n",
       "      <th>4252</th>\n",
       "      <td>NaN</td>\n",
       "      <td>daging kambing , potong dadu , kol , potong ka...</td>\n",
       "    </tr>\n",
       "    <tr>\n",
       "      <th>4334</th>\n",
       "      <td>NaN</td>\n",
       "      <td>daging kambing , kentang , cabe merah , bawang...</td>\n",
       "    </tr>\n",
       "    <tr>\n",
       "      <th>4375</th>\n",
       "      <td>NaN</td>\n",
       "      <td>buncis baby , telor puyuh , daging kambing dib...</td>\n",
       "    </tr>\n",
       "    <tr>\n",
       "      <th>4380</th>\n",
       "      <td>NaN</td>\n",
       "      <td>daging kambing campur iganya , serai geprek , ...</td>\n",
       "    </tr>\n",
       "    <tr>\n",
       "      <th>4384</th>\n",
       "      <td>NaN</td>\n",
       "      <td>daging kambing , prongkol bawang putih , bawan...</td>\n",
       "    </tr>\n",
       "    <tr>\n",
       "      <th>4386</th>\n",
       "      <td>NaN</td>\n",
       "      <td>daging kambing gurih tulang nya , santan kenta...</td>\n",
       "    </tr>\n",
       "    <tr>\n",
       "      <th>5341</th>\n",
       "      <td>NaN</td>\n",
       "      <td>daging sapi rebus empuk garam , ati kambing di...</td>\n",
       "    </tr>\n",
       "    <tr>\n",
       "      <th>5367</th>\n",
       "      <td>NaN</td>\n",
       "      <td>daging sapi kambing potong kotak aga , potong ...</td>\n",
       "    </tr>\n",
       "    <tr>\n",
       "      <th>5405</th>\n",
       "      <td>NaN</td>\n",
       "      <td>daging kambing , rebus empuk , bumbu , lengkua...</td>\n",
       "    </tr>\n",
       "    <tr>\n",
       "      <th>5421</th>\n",
       "      <td>NaN</td>\n",
       "      <td>daging kambing , jahe memarkan , serai , daun ...</td>\n",
       "    </tr>\n",
       "    <tr>\n",
       "      <th>5444</th>\n",
       "      <td>NaN</td>\n",
       "      <td>daging sapi has , jahe , kunyit , daun kunyit ...</td>\n",
       "    </tr>\n",
       "    <tr>\n",
       "      <th>7166</th>\n",
       "      <td>NaN</td>\n",
       "      <td>iga sapi , wortel , kentang , batang daun sled...</td>\n",
       "    </tr>\n",
       "  </tbody>\n",
       "</table>\n",
       "</div>"
      ],
      "text/plain": [
       "     Title Cleaned                                Ingredients Cleaned\n",
       "4005           NaN  daging kambing , pala , jahe , salam , daun je...\n",
       "4040           NaN  bahana , daging kambing , potong potong , b , ...\n",
       "4042           NaN  daging kambing rebus , bunga kol , wortel , bu...\n",
       "4077           NaN  iga tulang kambing , kacang ijo , bawang putih...\n",
       "4112           NaN  iga , daging , jeroan kambing pembagian , bawa...\n",
       "4149           NaN  daging kambing , bumbu , bawang putih , garam ...\n",
       "4194           NaN  daging kambing , bubuk pengempuk daging , keca...\n",
       "4212           NaN  daging kambing , cabe rawit merah , bawang mer...\n",
       "4252           NaN  daging kambing , potong dadu , kol , potong ka...\n",
       "4334           NaN  daging kambing , kentang , cabe merah , bawang...\n",
       "4375           NaN  buncis baby , telor puyuh , daging kambing dib...\n",
       "4380           NaN  daging kambing campur iganya , serai geprek , ...\n",
       "4384           NaN  daging kambing , prongkol bawang putih , bawan...\n",
       "4386           NaN  daging kambing gurih tulang nya , santan kenta...\n",
       "5341           NaN  daging sapi rebus empuk garam , ati kambing di...\n",
       "5367           NaN  daging sapi kambing potong kotak aga , potong ...\n",
       "5405           NaN  daging kambing , rebus empuk , bumbu , lengkua...\n",
       "5421           NaN  daging kambing , jahe memarkan , serai , daun ...\n",
       "5444           NaN  daging sapi has , jahe , kunyit , daun kunyit ...\n",
       "7166           NaN  iga sapi , wortel , kentang , batang daun sled..."
      ]
     },
     "execution_count": 12,
     "metadata": {},
     "output_type": "execute_result"
    }
   ],
   "source": [
    "df[df[\"Title Cleaned\"].isnull()]"
   ]
  },
  {
   "cell_type": "code",
   "execution_count": 13,
   "id": "09dfb5c7",
   "metadata": {},
   "outputs": [],
   "source": [
    "df.dropna(subset=[\"Title Cleaned\"], inplace=True)"
   ]
  },
  {
   "cell_type": "code",
   "execution_count": 14,
   "id": "04137c79",
   "metadata": {},
   "outputs": [
    {
     "data": {
      "text/plain": [
       "Title Cleaned          0\n",
       "Ingredients Cleaned    0\n",
       "dtype: int64"
      ]
     },
     "execution_count": 14,
     "metadata": {},
     "output_type": "execute_result"
    }
   ],
   "source": [
    "df.isnull().sum()"
   ]
  },
  {
   "cell_type": "code",
   "execution_count": null,
   "id": "95ba12cc",
   "metadata": {},
   "outputs": [],
   "source": [
    "df.to_csv(\"dataset_baru.csv\", index=False)"
   ]
  },
  {
   "cell_type": "code",
   "execution_count": 19,
   "id": "d3fa2011",
   "metadata": {},
   "outputs": [
    {
     "data": {
      "text/html": [
       "<div>\n",
       "<style scoped>\n",
       "    .dataframe tbody tr th:only-of-type {\n",
       "        vertical-align: middle;\n",
       "    }\n",
       "\n",
       "    .dataframe tbody tr th {\n",
       "        vertical-align: top;\n",
       "    }\n",
       "\n",
       "    .dataframe thead th {\n",
       "        text-align: right;\n",
       "    }\n",
       "</style>\n",
       "<table border=\"1\" class=\"dataframe\">\n",
       "  <thead>\n",
       "    <tr style=\"text-align: right;\">\n",
       "      <th></th>\n",
       "      <th>Title Cleaned</th>\n",
       "      <th>Ingredients Cleaned</th>\n",
       "    </tr>\n",
       "  </thead>\n",
       "  <tbody>\n",
       "    <tr>\n",
       "      <th>0</th>\n",
       "      <td>ayam woku manado</td>\n",
       "      <td>ayam kampung potong , jeruk nipis , garam , ku...</td>\n",
       "    </tr>\n",
       "    <tr>\n",
       "      <th>1</th>\n",
       "      <td>ayam goreng tulang lunak</td>\n",
       "      <td>ayam dipotong , serai , daun jeruk , bawang pu...</td>\n",
       "    </tr>\n",
       "    <tr>\n",
       "      <th>2</th>\n",
       "      <td>ayam cabai kawin</td>\n",
       "      <td>ayam , cabai hijau , cabai merah rawit , bawan...</td>\n",
       "    </tr>\n",
       "    <tr>\n",
       "      <th>3</th>\n",
       "      <td>ayam geprek</td>\n",
       "      <td>daging ayam fillet , gula garam , tepung ayam ...</td>\n",
       "    </tr>\n",
       "    <tr>\n",
       "      <th>4</th>\n",
       "      <td>minyak ayam</td>\n",
       "      <td>kulit ayam &amp; lemaknya , bawang putih , cincang...</td>\n",
       "    </tr>\n",
       "  </tbody>\n",
       "</table>\n",
       "</div>"
      ],
      "text/plain": [
       "              Title Cleaned                                Ingredients Cleaned\n",
       "0          ayam woku manado  ayam kampung potong , jeruk nipis , garam , ku...\n",
       "1  ayam goreng tulang lunak  ayam dipotong , serai , daun jeruk , bawang pu...\n",
       "2          ayam cabai kawin  ayam , cabai hijau , cabai merah rawit , bawan...\n",
       "3               ayam geprek  daging ayam fillet , gula garam , tepung ayam ...\n",
       "4               minyak ayam  kulit ayam & lemaknya , bawang putih , cincang..."
      ]
     },
     "execution_count": 19,
     "metadata": {},
     "output_type": "execute_result"
    }
   ],
   "source": [
    "dataset_baru = pd.read_csv(\"dataset_baru.csv\")\n",
    "dataset_baru.head()"
   ]
  },
  {
   "cell_type": "code",
   "execution_count": 22,
   "id": "556f6562",
   "metadata": {},
   "outputs": [
    {
     "data": {
      "text/plain": [
       "'ayam kampung potong , jeruk nipis , garam , kunyit , bawang merah , bawang putih , cabe merah , cabe rawit merah , kemiri , serai , daun salam , daun kemangi , penyedap , air'"
      ]
     },
     "execution_count": 22,
     "metadata": {},
     "output_type": "execute_result"
    }
   ],
   "source": [
    "dataset_baru.iloc[0, 1]"
   ]
  },
  {
   "cell_type": "code",
   "execution_count": 24,
   "id": "4192e616",
   "metadata": {},
   "outputs": [
    {
     "data": {
      "text/plain": [
       "'ayam dipotong , serai , daun jeruk , bawang putih haluskan , biji ketumbar , laos haluskan , kunyit , kemiri , garam , air tuk ukep ayam , minyak goreng'"
      ]
     },
     "execution_count": 24,
     "metadata": {},
     "output_type": "execute_result"
    }
   ],
   "source": [
    "dataset_baru.iloc[1, 1]"
   ]
  },
  {
   "cell_type": "code",
   "execution_count": 25,
   "id": "52cbeb70",
   "metadata": {},
   "outputs": [
    {
     "data": {
      "text/plain": [
       "'ayam , cabai hijau , cabai merah rawit , bawang putih , bawang merah , gula , garam , tomat merah , air , minyak goreng'"
      ]
     },
     "execution_count": 25,
     "metadata": {},
     "output_type": "execute_result"
    }
   ],
   "source": [
    "dataset_baru.iloc[2, 1]"
   ]
  }
 ],
 "metadata": {
  "kernelspec": {
   "display_name": ".venv",
   "language": "python",
   "name": "python3"
  },
  "language_info": {
   "codemirror_mode": {
    "name": "ipython",
    "version": 3
   },
   "file_extension": ".py",
   "mimetype": "text/x-python",
   "name": "python",
   "nbconvert_exporter": "python",
   "pygments_lexer": "ipython3",
   "version": "3.13.9"
  }
 },
 "nbformat": 4,
 "nbformat_minor": 5
}
